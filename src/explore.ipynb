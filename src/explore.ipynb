{
    "cells": [
        {
            "cell_type": "markdown",
            "metadata": {},
            "source": [
                "# Explore here"
            ]
        },
        {
            "cell_type": "markdown",
            "metadata": {},
            "source": [
                "# **SISTEMA DE RECOMENDACIÓN DE PELÍCULAS CON MODELO KNN**"
            ]
        },
        {
            "cell_type": "code",
            "execution_count": 5,
            "metadata": {},
            "outputs": [],
            "source": [
                "# Bibliotecas necesarias\n",
                "\n",
                "# Biblioteca para manipulación e implementación de datos:\n",
                "import pandas as pd\n",
                "\n",
                "# Función para dividir un conjunto de datos en dos subconjuntos (entrenamiento y prueba)\n",
                "from sklearn.model_selection import train_test_split\n",
                "\n",
                "# Biblioteca para trabajar con bases de datos SQLite:\n",
                "import sqlite3"
            ]
        },
        {
            "cell_type": "markdown",
            "metadata": {},
            "source": [
                "# **Carga de datos**"
            ]
        },
        {
            "cell_type": "code",
            "execution_count": 2,
            "metadata": {},
            "outputs": [],
            "source": [
                "data_movies = pd.read_csv(\"https://raw.githubusercontent.com/4GeeksAcademy/k-nearest-neighbors-project-tutorial/main/tmdb_5000_movies.csv\")\n",
                "data_credits = pd.read_csv(\"https://raw.githubusercontent.com/4GeeksAcademy/k-nearest-neighbors-project-tutorial/main/tmdb_5000_credits.csv\")\n"
            ]
        },
        {
            "cell_type": "code",
            "execution_count": 3,
            "metadata": {},
            "outputs": [
                {
                    "name": "stdout",
                    "output_type": "stream",
                    "text": [
                        "<class 'pandas.core.frame.DataFrame'>\n",
                        "RangeIndex: 4803 entries, 0 to 4802\n",
                        "Data columns (total 4 columns):\n",
                        " #   Column    Non-Null Count  Dtype \n",
                        "---  ------    --------------  ----- \n",
                        " 0   movie_id  4803 non-null   int64 \n",
                        " 1   title     4803 non-null   object\n",
                        " 2   cast      4803 non-null   object\n",
                        " 3   crew      4803 non-null   object\n",
                        "dtypes: int64(1), object(3)\n",
                        "memory usage: 150.2+ KB\n"
                    ]
                }
            ],
            "source": [
                "data_credits.info()"
            ]
        },
        {
            "cell_type": "code",
            "execution_count": 4,
            "metadata": {},
            "outputs": [
                {
                    "name": "stdout",
                    "output_type": "stream",
                    "text": [
                        "<class 'pandas.core.frame.DataFrame'>\n",
                        "RangeIndex: 4803 entries, 0 to 4802\n",
                        "Data columns (total 20 columns):\n",
                        " #   Column                Non-Null Count  Dtype  \n",
                        "---  ------                --------------  -----  \n",
                        " 0   budget                4803 non-null   int64  \n",
                        " 1   genres                4803 non-null   object \n",
                        " 2   homepage              1712 non-null   object \n",
                        " 3   id                    4803 non-null   int64  \n",
                        " 4   keywords              4803 non-null   object \n",
                        " 5   original_language     4803 non-null   object \n",
                        " 6   original_title        4803 non-null   object \n",
                        " 7   overview              4800 non-null   object \n",
                        " 8   popularity            4803 non-null   float64\n",
                        " 9   production_companies  4803 non-null   object \n",
                        " 10  production_countries  4803 non-null   object \n",
                        " 11  release_date          4802 non-null   object \n",
                        " 12  revenue               4803 non-null   int64  \n",
                        " 13  runtime               4801 non-null   float64\n",
                        " 14  spoken_languages      4803 non-null   object \n",
                        " 15  status                4803 non-null   object \n",
                        " 16  tagline               3959 non-null   object \n",
                        " 17  title                 4803 non-null   object \n",
                        " 18  vote_average          4803 non-null   float64\n",
                        " 19  vote_count            4803 non-null   int64  \n",
                        "dtypes: float64(3), int64(4), object(13)\n",
                        "memory usage: 750.6+ KB\n"
                    ]
                }
            ],
            "source": [
                "data_movies.info()"
            ]
        },
        {
            "cell_type": "markdown",
            "metadata": {},
            "source": [
                "# **Creación de una base de datos**\n",
                "\n",
                "- Crea una base de datos para almacenar los dos DataFrames en tablas distintas. \n",
                "- A continuación, une las dos tablas con SQL (e intégralo con Python) para generar una tercera tabla que contenga información de ambas unificada. \n",
                "- (La clave a través de la cual se puede hacer la unión es el título de la película (`titulo`).)"
            ]
        },
        {
            "cell_type": "code",
            "execution_count": null,
            "metadata": {},
            "outputs": [
                {
                    "data": {
                        "text/plain": [
                            "4803"
                        ]
                    },
                    "execution_count": 7,
                    "metadata": {},
                    "output_type": "execute_result"
                }
            ],
            "source": [
                "# Creamos la base de datos llamada: \"movies_database\"\n",
                "conn = sqlite3.connect(\"../data/movies_database.db\")\n",
                "\n",
                "# Creamos las dos tablas en la base de datos\n",
                "data_movies.to_sql(\"movies_table\", conn, if_exists=\"replace\", index =False)\n",
                "data_credits.to_sql(\"credits_table\",conn, if_exists = \"replace\", index = False)\n",
                "\n",
                "\n"
            ]
        },
        {
            "cell_type": "code",
            "execution_count": null,
            "metadata": {},
            "outputs": [],
            "source": []
        }
    ],
    "metadata": {
        "kernelspec": {
            "display_name": "Python 3",
            "language": "python",
            "name": "python3"
        },
        "language_info": {
            "codemirror_mode": {
                "name": "ipython",
                "version": 3
            },
            "file_extension": ".py",
            "mimetype": "text/x-python",
            "name": "python",
            "nbconvert_exporter": "python",
            "pygments_lexer": "ipython3",
            "version": "3.10.12"
        },
        "orig_nbformat": 4
    },
    "nbformat": 4,
    "nbformat_minor": 2
}
